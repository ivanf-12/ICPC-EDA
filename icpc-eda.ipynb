{
 "cells": [
  {
   "cell_type": "markdown",
   "id": "7302014b",
   "metadata": {
    "papermill": {
     "duration": 0.006207,
     "end_time": "2023-06-24T13:43:35.385565",
     "exception": false,
     "start_time": "2023-06-24T13:43:35.379358",
     "status": "completed"
    },
    "tags": []
   },
   "source": [
    "# **0 Imports and Reading Data**"
   ]
  },
  {
   "cell_type": "code",
   "execution_count": 1,
   "id": "a8cacf13",
   "metadata": {
    "_cell_guid": "b1076dfc-b9ad-4769-8c92-a6c4dae69d19",
    "_uuid": "8f2839f25d086af736a60e9eeb907d3b93b6e0e5",
    "execution": {
     "iopub.execute_input": "2023-06-24T13:43:35.398995Z",
     "iopub.status.busy": "2023-06-24T13:43:35.398561Z",
     "iopub.status.idle": "2023-06-24T13:43:36.923367Z",
     "shell.execute_reply": "2023-06-24T13:43:36.922442Z"
    },
    "papermill": {
     "duration": 1.534721,
     "end_time": "2023-06-24T13:43:36.926156",
     "exception": false,
     "start_time": "2023-06-24T13:43:35.391435",
     "status": "completed"
    },
    "tags": []
   },
   "outputs": [],
   "source": [
    "import pandas as pd\n",
    "import numpy as np\n",
    "import matplotlib.pylab as plt\n",
    "import seaborn as sns\n",
    "plt.style.use('ggplot')"
   ]
  },
  {
   "cell_type": "code",
   "execution_count": 2,
   "id": "2be79c9a",
   "metadata": {
    "execution": {
     "iopub.execute_input": "2023-06-24T13:43:36.939445Z",
     "iopub.status.busy": "2023-06-24T13:43:36.939045Z",
     "iopub.status.idle": "2023-06-24T13:43:36.986358Z",
     "shell.execute_reply": "2023-06-24T13:43:36.985450Z"
    },
    "papermill": {
     "duration": 0.056913,
     "end_time": "2023-06-24T13:43:36.988945",
     "exception": false,
     "start_time": "2023-06-24T13:43:36.932032",
     "status": "completed"
    },
    "tags": []
   },
   "outputs": [],
   "source": [
    "df = pd.read_csv('/kaggle/input/icpc-world-finals-ranking-since-1999/icpc-full.csv')"
   ]
  },
  {
   "cell_type": "markdown",
   "id": "931ac14b",
   "metadata": {
    "papermill": {
     "duration": 0.005208,
     "end_time": "2023-06-24T13:43:36.999758",
     "exception": false,
     "start_time": "2023-06-24T13:43:36.994550",
     "status": "completed"
    },
    "tags": []
   },
   "source": [
    "# **1 Data Understanding**"
   ]
  },
  {
   "cell_type": "code",
   "execution_count": 3,
   "id": "cd2b1cd9",
   "metadata": {
    "execution": {
     "iopub.execute_input": "2023-06-24T13:43:37.012365Z",
     "iopub.status.busy": "2023-06-24T13:43:37.011993Z",
     "iopub.status.idle": "2023-06-24T13:43:37.019449Z",
     "shell.execute_reply": "2023-06-24T13:43:37.018512Z"
    },
    "papermill": {
     "duration": 0.016707,
     "end_time": "2023-06-24T13:43:37.021919",
     "exception": false,
     "start_time": "2023-06-24T13:43:37.005212",
     "status": "completed"
    },
    "tags": []
   },
   "outputs": [
    {
     "data": {
      "text/plain": [
       "(2308, 21)"
      ]
     },
     "execution_count": 3,
     "metadata": {},
     "output_type": "execute_result"
    }
   ],
   "source": [
    "df.shape"
   ]
  },
  {
   "cell_type": "code",
   "execution_count": 4,
   "id": "efb81b4b",
   "metadata": {
    "execution": {
     "iopub.execute_input": "2023-06-24T13:43:37.035194Z",
     "iopub.status.busy": "2023-06-24T13:43:37.034803Z",
     "iopub.status.idle": "2023-06-24T13:43:37.088187Z",
     "shell.execute_reply": "2023-06-24T13:43:37.087162Z"
    },
    "papermill": {
     "duration": 0.06296,
     "end_time": "2023-06-24T13:43:37.090577",
     "exception": false,
     "start_time": "2023-06-24T13:43:37.027617",
     "status": "completed"
    },
    "tags": []
   },
   "outputs": [
    {
     "data": {
      "text/html": [
       "<div>\n",
       "<style scoped>\n",
       "    .dataframe tbody tr th:only-of-type {\n",
       "        vertical-align: middle;\n",
       "    }\n",
       "\n",
       "    .dataframe tbody tr th {\n",
       "        vertical-align: top;\n",
       "    }\n",
       "\n",
       "    .dataframe thead th {\n",
       "        text-align: right;\n",
       "    }\n",
       "</style>\n",
       "<table border=\"1\" class=\"dataframe\">\n",
       "  <thead>\n",
       "    <tr style=\"text-align: right;\">\n",
       "      <th></th>\n",
       "      <th>Year</th>\n",
       "      <th>Date</th>\n",
       "      <th>Host</th>\n",
       "      <th>City</th>\n",
       "      <th>Venue</th>\n",
       "      <th>Rank</th>\n",
       "      <th>University</th>\n",
       "      <th>Country</th>\n",
       "      <th>Team</th>\n",
       "      <th>Contestant 1</th>\n",
       "      <th>...</th>\n",
       "      <th>Contestant 3</th>\n",
       "      <th>Gold</th>\n",
       "      <th>Silver</th>\n",
       "      <th>Bronze</th>\n",
       "      <th>Honorable</th>\n",
       "      <th>Score</th>\n",
       "      <th>Total</th>\n",
       "      <th>Score Percentage</th>\n",
       "      <th>Penalty</th>\n",
       "      <th>Prize</th>\n",
       "    </tr>\n",
       "  </thead>\n",
       "  <tbody>\n",
       "    <tr>\n",
       "      <th>0</th>\n",
       "      <td>1999</td>\n",
       "      <td>1999-04-11</td>\n",
       "      <td>Netherlands</td>\n",
       "      <td>Eindhoven</td>\n",
       "      <td>Eindhoven University of Technology</td>\n",
       "      <td>1.0</td>\n",
       "      <td>University of Waterloo</td>\n",
       "      <td>Canada</td>\n",
       "      <td>U Waterloo</td>\n",
       "      <td>David Kennedy</td>\n",
       "      <td>...</td>\n",
       "      <td>Viet-Trung Luu</td>\n",
       "      <td>True</td>\n",
       "      <td>False</td>\n",
       "      <td>False</td>\n",
       "      <td>False</td>\n",
       "      <td>6.0</td>\n",
       "      <td>8</td>\n",
       "      <td>0.75</td>\n",
       "      <td>948.0</td>\n",
       "      <td>World Champion</td>\n",
       "    </tr>\n",
       "    <tr>\n",
       "      <th>1</th>\n",
       "      <td>1999</td>\n",
       "      <td>1999-04-11</td>\n",
       "      <td>Netherlands</td>\n",
       "      <td>Eindhoven</td>\n",
       "      <td>Eindhoven University of Technology</td>\n",
       "      <td>2.0</td>\n",
       "      <td>Albert-Ludwigs-Universität Freiburg</td>\n",
       "      <td>Germany</td>\n",
       "      <td>Freiburg B Team</td>\n",
       "      <td>NaN</td>\n",
       "      <td>...</td>\n",
       "      <td>NaN</td>\n",
       "      <td>False</td>\n",
       "      <td>True</td>\n",
       "      <td>False</td>\n",
       "      <td>False</td>\n",
       "      <td>6.0</td>\n",
       "      <td>8</td>\n",
       "      <td>0.75</td>\n",
       "      <td>992.0</td>\n",
       "      <td>NaN</td>\n",
       "    </tr>\n",
       "    <tr>\n",
       "      <th>2</th>\n",
       "      <td>1999</td>\n",
       "      <td>1999-04-11</td>\n",
       "      <td>Netherlands</td>\n",
       "      <td>Eindhoven</td>\n",
       "      <td>Eindhoven University of Technology</td>\n",
       "      <td>3.0</td>\n",
       "      <td>St. Petersburg Institute of Fine Mechanics &amp; O...</td>\n",
       "      <td>Russia</td>\n",
       "      <td>St. Petersburg IFMO</td>\n",
       "      <td>Alexander Volkov</td>\n",
       "      <td>...</td>\n",
       "      <td>Vladimir Lyovkin</td>\n",
       "      <td>False</td>\n",
       "      <td>False</td>\n",
       "      <td>True</td>\n",
       "      <td>False</td>\n",
       "      <td>6.0</td>\n",
       "      <td>8</td>\n",
       "      <td>0.75</td>\n",
       "      <td>1046.0</td>\n",
       "      <td>NaN</td>\n",
       "    </tr>\n",
       "    <tr>\n",
       "      <th>3</th>\n",
       "      <td>1999</td>\n",
       "      <td>1999-04-11</td>\n",
       "      <td>Netherlands</td>\n",
       "      <td>Eindhoven</td>\n",
       "      <td>Eindhoven University of Technology</td>\n",
       "      <td>4.0</td>\n",
       "      <td>University of Bucharest</td>\n",
       "      <td>Romania</td>\n",
       "      <td>UNIBUC Bucharest</td>\n",
       "      <td>NaN</td>\n",
       "      <td>...</td>\n",
       "      <td>NaN</td>\n",
       "      <td>False</td>\n",
       "      <td>False</td>\n",
       "      <td>True</td>\n",
       "      <td>False</td>\n",
       "      <td>6.0</td>\n",
       "      <td>8</td>\n",
       "      <td>0.75</td>\n",
       "      <td>1048.0</td>\n",
       "      <td>NaN</td>\n",
       "    </tr>\n",
       "    <tr>\n",
       "      <th>4</th>\n",
       "      <td>1999</td>\n",
       "      <td>1999-04-11</td>\n",
       "      <td>Netherlands</td>\n",
       "      <td>Eindhoven</td>\n",
       "      <td>Eindhoven University of Technology</td>\n",
       "      <td>5.0</td>\n",
       "      <td>Duke University</td>\n",
       "      <td>United States</td>\n",
       "      <td>Duke Blue Devils</td>\n",
       "      <td>NaN</td>\n",
       "      <td>...</td>\n",
       "      <td>NaN</td>\n",
       "      <td>False</td>\n",
       "      <td>False</td>\n",
       "      <td>True</td>\n",
       "      <td>False</td>\n",
       "      <td>6.0</td>\n",
       "      <td>8</td>\n",
       "      <td>0.75</td>\n",
       "      <td>1337.0</td>\n",
       "      <td>NaN</td>\n",
       "    </tr>\n",
       "    <tr>\n",
       "      <th>5</th>\n",
       "      <td>1999</td>\n",
       "      <td>1999-04-11</td>\n",
       "      <td>Netherlands</td>\n",
       "      <td>Eindhoven</td>\n",
       "      <td>Eindhoven University of Technology</td>\n",
       "      <td>6.0</td>\n",
       "      <td>California Polytechnic State University</td>\n",
       "      <td>United States</td>\n",
       "      <td>Cal Poly Gold</td>\n",
       "      <td>NaN</td>\n",
       "      <td>...</td>\n",
       "      <td>NaN</td>\n",
       "      <td>False</td>\n",
       "      <td>False</td>\n",
       "      <td>True</td>\n",
       "      <td>False</td>\n",
       "      <td>5.0</td>\n",
       "      <td>8</td>\n",
       "      <td>0.62</td>\n",
       "      <td>724.0</td>\n",
       "      <td>NaN</td>\n",
       "    </tr>\n",
       "    <tr>\n",
       "      <th>6</th>\n",
       "      <td>1999</td>\n",
       "      <td>1999-04-11</td>\n",
       "      <td>Netherlands</td>\n",
       "      <td>Eindhoven</td>\n",
       "      <td>Eindhoven University of Technology</td>\n",
       "      <td>7.0</td>\n",
       "      <td>University of California at Berkeley</td>\n",
       "      <td>United States</td>\n",
       "      <td>UC Berkeley Blue</td>\n",
       "      <td>NaN</td>\n",
       "      <td>...</td>\n",
       "      <td>NaN</td>\n",
       "      <td>False</td>\n",
       "      <td>False</td>\n",
       "      <td>True</td>\n",
       "      <td>False</td>\n",
       "      <td>5.0</td>\n",
       "      <td>8</td>\n",
       "      <td>0.62</td>\n",
       "      <td>732.0</td>\n",
       "      <td>NaN</td>\n",
       "    </tr>\n",
       "    <tr>\n",
       "      <th>7</th>\n",
       "      <td>1999</td>\n",
       "      <td>1999-04-11</td>\n",
       "      <td>Netherlands</td>\n",
       "      <td>Eindhoven</td>\n",
       "      <td>Eindhoven University of Technology</td>\n",
       "      <td>8.0</td>\n",
       "      <td>Harvard University</td>\n",
       "      <td>United States</td>\n",
       "      <td>Harvard</td>\n",
       "      <td>NaN</td>\n",
       "      <td>...</td>\n",
       "      <td>NaN</td>\n",
       "      <td>False</td>\n",
       "      <td>False</td>\n",
       "      <td>True</td>\n",
       "      <td>False</td>\n",
       "      <td>5.0</td>\n",
       "      <td>8</td>\n",
       "      <td>0.62</td>\n",
       "      <td>733.0</td>\n",
       "      <td>NaN</td>\n",
       "    </tr>\n",
       "    <tr>\n",
       "      <th>8</th>\n",
       "      <td>1999</td>\n",
       "      <td>1999-04-11</td>\n",
       "      <td>Netherlands</td>\n",
       "      <td>Eindhoven</td>\n",
       "      <td>Eindhoven University of Technology</td>\n",
       "      <td>9.0</td>\n",
       "      <td>St. Petersburg State University</td>\n",
       "      <td>Russia</td>\n",
       "      <td>St. Petersburg State U</td>\n",
       "      <td>Ilya Mironov</td>\n",
       "      <td>...</td>\n",
       "      <td>Vasiliy Filippov</td>\n",
       "      <td>False</td>\n",
       "      <td>False</td>\n",
       "      <td>True</td>\n",
       "      <td>False</td>\n",
       "      <td>5.0</td>\n",
       "      <td>8</td>\n",
       "      <td>0.62</td>\n",
       "      <td>762.0</td>\n",
       "      <td>NaN</td>\n",
       "    </tr>\n",
       "    <tr>\n",
       "      <th>9</th>\n",
       "      <td>1999</td>\n",
       "      <td>1999-04-11</td>\n",
       "      <td>Netherlands</td>\n",
       "      <td>Eindhoven</td>\n",
       "      <td>Eindhoven University of Technology</td>\n",
       "      <td>10.0</td>\n",
       "      <td>National Taiwan University</td>\n",
       "      <td>Taiwan</td>\n",
       "      <td>National TU VmanTeam</td>\n",
       "      <td>NaN</td>\n",
       "      <td>...</td>\n",
       "      <td>NaN</td>\n",
       "      <td>False</td>\n",
       "      <td>False</td>\n",
       "      <td>True</td>\n",
       "      <td>False</td>\n",
       "      <td>5.0</td>\n",
       "      <td>8</td>\n",
       "      <td>0.62</td>\n",
       "      <td>847.0</td>\n",
       "      <td>NaN</td>\n",
       "    </tr>\n",
       "  </tbody>\n",
       "</table>\n",
       "<p>10 rows × 21 columns</p>\n",
       "</div>"
      ],
      "text/plain": [
       "   Year        Date         Host       City  \\\n",
       "0  1999  1999-04-11  Netherlands  Eindhoven   \n",
       "1  1999  1999-04-11  Netherlands  Eindhoven   \n",
       "2  1999  1999-04-11  Netherlands  Eindhoven   \n",
       "3  1999  1999-04-11  Netherlands  Eindhoven   \n",
       "4  1999  1999-04-11  Netherlands  Eindhoven   \n",
       "5  1999  1999-04-11  Netherlands  Eindhoven   \n",
       "6  1999  1999-04-11  Netherlands  Eindhoven   \n",
       "7  1999  1999-04-11  Netherlands  Eindhoven   \n",
       "8  1999  1999-04-11  Netherlands  Eindhoven   \n",
       "9  1999  1999-04-11  Netherlands  Eindhoven   \n",
       "\n",
       "                                Venue  Rank  \\\n",
       "0  Eindhoven University of Technology   1.0   \n",
       "1  Eindhoven University of Technology   2.0   \n",
       "2  Eindhoven University of Technology   3.0   \n",
       "3  Eindhoven University of Technology   4.0   \n",
       "4  Eindhoven University of Technology   5.0   \n",
       "5  Eindhoven University of Technology   6.0   \n",
       "6  Eindhoven University of Technology   7.0   \n",
       "7  Eindhoven University of Technology   8.0   \n",
       "8  Eindhoven University of Technology   9.0   \n",
       "9  Eindhoven University of Technology  10.0   \n",
       "\n",
       "                                          University        Country  \\\n",
       "0                             University of Waterloo         Canada   \n",
       "1                Albert-Ludwigs-Universität Freiburg        Germany   \n",
       "2  St. Petersburg Institute of Fine Mechanics & O...         Russia   \n",
       "3                            University of Bucharest        Romania   \n",
       "4                                    Duke University  United States   \n",
       "5            California Polytechnic State University  United States   \n",
       "6               University of California at Berkeley  United States   \n",
       "7                                 Harvard University  United States   \n",
       "8                    St. Petersburg State University         Russia   \n",
       "9                         National Taiwan University         Taiwan   \n",
       "\n",
       "                     Team      Contestant 1  ...      Contestant 3   Gold  \\\n",
       "0              U Waterloo     David Kennedy  ...    Viet-Trung Luu   True   \n",
       "1         Freiburg B Team               NaN  ...               NaN  False   \n",
       "2     St. Petersburg IFMO  Alexander Volkov  ...  Vladimir Lyovkin  False   \n",
       "3        UNIBUC Bucharest               NaN  ...               NaN  False   \n",
       "4        Duke Blue Devils               NaN  ...               NaN  False   \n",
       "5           Cal Poly Gold               NaN  ...               NaN  False   \n",
       "6        UC Berkeley Blue               NaN  ...               NaN  False   \n",
       "7                 Harvard               NaN  ...               NaN  False   \n",
       "8  St. Petersburg State U      Ilya Mironov  ...  Vasiliy Filippov  False   \n",
       "9    National TU VmanTeam               NaN  ...               NaN  False   \n",
       "\n",
       "   Silver  Bronze  Honorable  Score  Total  Score Percentage  Penalty  \\\n",
       "0   False   False      False    6.0      8              0.75    948.0   \n",
       "1    True   False      False    6.0      8              0.75    992.0   \n",
       "2   False    True      False    6.0      8              0.75   1046.0   \n",
       "3   False    True      False    6.0      8              0.75   1048.0   \n",
       "4   False    True      False    6.0      8              0.75   1337.0   \n",
       "5   False    True      False    5.0      8              0.62    724.0   \n",
       "6   False    True      False    5.0      8              0.62    732.0   \n",
       "7   False    True      False    5.0      8              0.62    733.0   \n",
       "8   False    True      False    5.0      8              0.62    762.0   \n",
       "9   False    True      False    5.0      8              0.62    847.0   \n",
       "\n",
       "            Prize  \n",
       "0  World Champion  \n",
       "1             NaN  \n",
       "2             NaN  \n",
       "3             NaN  \n",
       "4             NaN  \n",
       "5             NaN  \n",
       "6             NaN  \n",
       "7             NaN  \n",
       "8             NaN  \n",
       "9             NaN  \n",
       "\n",
       "[10 rows x 21 columns]"
      ]
     },
     "execution_count": 4,
     "metadata": {},
     "output_type": "execute_result"
    }
   ],
   "source": [
    "df.head(10)"
   ]
  },
  {
   "cell_type": "code",
   "execution_count": 5,
   "id": "6bc673b5",
   "metadata": {
    "execution": {
     "iopub.execute_input": "2023-06-24T13:43:37.106725Z",
     "iopub.status.busy": "2023-06-24T13:43:37.106326Z",
     "iopub.status.idle": "2023-06-24T13:43:37.113538Z",
     "shell.execute_reply": "2023-06-24T13:43:37.112546Z"
    },
    "papermill": {
     "duration": 0.017433,
     "end_time": "2023-06-24T13:43:37.115881",
     "exception": false,
     "start_time": "2023-06-24T13:43:37.098448",
     "status": "completed"
    },
    "tags": []
   },
   "outputs": [
    {
     "data": {
      "text/plain": [
       "Index(['Year', 'Date', 'Host', 'City', 'Venue', 'Rank', 'University',\n",
       "       'Country', 'Team', 'Contestant 1', 'Contestant 2', 'Contestant 3',\n",
       "       'Gold', 'Silver', 'Bronze', 'Honorable', 'Score', 'Total',\n",
       "       'Score Percentage', 'Penalty', 'Prize'],\n",
       "      dtype='object')"
      ]
     },
     "execution_count": 5,
     "metadata": {},
     "output_type": "execute_result"
    }
   ],
   "source": [
    "df.columns"
   ]
  },
  {
   "cell_type": "code",
   "execution_count": 6,
   "id": "368bd15c",
   "metadata": {
    "execution": {
     "iopub.execute_input": "2023-06-24T13:43:37.130702Z",
     "iopub.status.busy": "2023-06-24T13:43:37.130339Z",
     "iopub.status.idle": "2023-06-24T13:43:37.138689Z",
     "shell.execute_reply": "2023-06-24T13:43:37.137701Z"
    },
    "papermill": {
     "duration": 0.018575,
     "end_time": "2023-06-24T13:43:37.140976",
     "exception": false,
     "start_time": "2023-06-24T13:43:37.122401",
     "status": "completed"
    },
    "tags": []
   },
   "outputs": [
    {
     "data": {
      "text/plain": [
       "Year                  int64\n",
       "Date                 object\n",
       "Host                 object\n",
       "City                 object\n",
       "Venue                object\n",
       "Rank                float64\n",
       "University           object\n",
       "Country              object\n",
       "Team                 object\n",
       "Contestant 1         object\n",
       "Contestant 2         object\n",
       "Contestant 3         object\n",
       "Gold                   bool\n",
       "Silver                 bool\n",
       "Bronze                 bool\n",
       "Honorable              bool\n",
       "Score               float64\n",
       "Total                 int64\n",
       "Score Percentage    float64\n",
       "Penalty             float64\n",
       "Prize                object\n",
       "dtype: object"
      ]
     },
     "execution_count": 6,
     "metadata": {},
     "output_type": "execute_result"
    }
   ],
   "source": [
    "df.dtypes"
   ]
  },
  {
   "cell_type": "code",
   "execution_count": 7,
   "id": "07788210",
   "metadata": {
    "execution": {
     "iopub.execute_input": "2023-06-24T13:43:37.156868Z",
     "iopub.status.busy": "2023-06-24T13:43:37.156439Z",
     "iopub.status.idle": "2023-06-24T13:43:37.193238Z",
     "shell.execute_reply": "2023-06-24T13:43:37.192043Z"
    },
    "papermill": {
     "duration": 0.047641,
     "end_time": "2023-06-24T13:43:37.195823",
     "exception": false,
     "start_time": "2023-06-24T13:43:37.148182",
     "status": "completed"
    },
    "tags": []
   },
   "outputs": [
    {
     "data": {
      "text/html": [
       "<div>\n",
       "<style scoped>\n",
       "    .dataframe tbody tr th:only-of-type {\n",
       "        vertical-align: middle;\n",
       "    }\n",
       "\n",
       "    .dataframe tbody tr th {\n",
       "        vertical-align: top;\n",
       "    }\n",
       "\n",
       "    .dataframe thead th {\n",
       "        text-align: right;\n",
       "    }\n",
       "</style>\n",
       "<table border=\"1\" class=\"dataframe\">\n",
       "  <thead>\n",
       "    <tr style=\"text-align: right;\">\n",
       "      <th></th>\n",
       "      <th>Year</th>\n",
       "      <th>Rank</th>\n",
       "      <th>Score</th>\n",
       "      <th>Total</th>\n",
       "      <th>Score Percentage</th>\n",
       "      <th>Penalty</th>\n",
       "    </tr>\n",
       "  </thead>\n",
       "  <tbody>\n",
       "    <tr>\n",
       "      <th>count</th>\n",
       "      <td>2308.000000</td>\n",
       "      <td>2265.000000</td>\n",
       "      <td>2275.000000</td>\n",
       "      <td>2308.000000</td>\n",
       "      <td>2275.000000</td>\n",
       "      <td>2190.000000</td>\n",
       "    </tr>\n",
       "    <tr>\n",
       "      <th>mean</th>\n",
       "      <td>2011.681976</td>\n",
       "      <td>53.217219</td>\n",
       "      <td>3.875604</td>\n",
       "      <td>11.132582</td>\n",
       "      <td>0.348523</td>\n",
       "      <td>655.082648</td>\n",
       "    </tr>\n",
       "    <tr>\n",
       "      <th>std</th>\n",
       "      <td>6.320118</td>\n",
       "      <td>33.887514</td>\n",
       "      <td>2.225798</td>\n",
       "      <td>1.608310</td>\n",
       "      <td>0.194726</td>\n",
       "      <td>391.896365</td>\n",
       "    </tr>\n",
       "    <tr>\n",
       "      <th>min</th>\n",
       "      <td>1999.000000</td>\n",
       "      <td>1.000000</td>\n",
       "      <td>0.000000</td>\n",
       "      <td>8.000000</td>\n",
       "      <td>0.000000</td>\n",
       "      <td>0.000000</td>\n",
       "    </tr>\n",
       "    <tr>\n",
       "      <th>25%</th>\n",
       "      <td>2007.000000</td>\n",
       "      <td>25.000000</td>\n",
       "      <td>2.000000</td>\n",
       "      <td>10.000000</td>\n",
       "      <td>0.200000</td>\n",
       "      <td>365.250000</td>\n",
       "    </tr>\n",
       "    <tr>\n",
       "      <th>50%</th>\n",
       "      <td>2012.000000</td>\n",
       "      <td>49.000000</td>\n",
       "      <td>4.000000</td>\n",
       "      <td>11.000000</td>\n",
       "      <td>0.330000</td>\n",
       "      <td>638.000000</td>\n",
       "    </tr>\n",
       "    <tr>\n",
       "      <th>75%</th>\n",
       "      <td>2017.000000</td>\n",
       "      <td>78.000000</td>\n",
       "      <td>5.000000</td>\n",
       "      <td>12.000000</td>\n",
       "      <td>0.500000</td>\n",
       "      <td>934.500000</td>\n",
       "    </tr>\n",
       "    <tr>\n",
       "      <th>max</th>\n",
       "      <td>2021.000000</td>\n",
       "      <td>139.000000</td>\n",
       "      <td>13.000000</td>\n",
       "      <td>15.000000</td>\n",
       "      <td>1.000000</td>\n",
       "      <td>1912.000000</td>\n",
       "    </tr>\n",
       "  </tbody>\n",
       "</table>\n",
       "</div>"
      ],
      "text/plain": [
       "              Year         Rank        Score        Total  Score Percentage  \\\n",
       "count  2308.000000  2265.000000  2275.000000  2308.000000       2275.000000   \n",
       "mean   2011.681976    53.217219     3.875604    11.132582          0.348523   \n",
       "std       6.320118    33.887514     2.225798     1.608310          0.194726   \n",
       "min    1999.000000     1.000000     0.000000     8.000000          0.000000   \n",
       "25%    2007.000000    25.000000     2.000000    10.000000          0.200000   \n",
       "50%    2012.000000    49.000000     4.000000    11.000000          0.330000   \n",
       "75%    2017.000000    78.000000     5.000000    12.000000          0.500000   \n",
       "max    2021.000000   139.000000    13.000000    15.000000          1.000000   \n",
       "\n",
       "           Penalty  \n",
       "count  2190.000000  \n",
       "mean    655.082648  \n",
       "std     391.896365  \n",
       "min       0.000000  \n",
       "25%     365.250000  \n",
       "50%     638.000000  \n",
       "75%     934.500000  \n",
       "max    1912.000000  "
      ]
     },
     "execution_count": 7,
     "metadata": {},
     "output_type": "execute_result"
    }
   ],
   "source": [
    "df.describe()"
   ]
  },
  {
   "cell_type": "markdown",
   "id": "117c0239",
   "metadata": {
    "papermill": {
     "duration": 0.007325,
     "end_time": "2023-06-24T13:43:37.210347",
     "exception": false,
     "start_time": "2023-06-24T13:43:37.203022",
     "status": "completed"
    },
    "tags": []
   },
   "source": [
    "# **2 Data Preparation**"
   ]
  },
  {
   "cell_type": "code",
   "execution_count": 8,
   "id": "94e16ae7",
   "metadata": {
    "execution": {
     "iopub.execute_input": "2023-06-24T13:43:37.226621Z",
     "iopub.status.busy": "2023-06-24T13:43:37.226236Z",
     "iopub.status.idle": "2023-06-24T13:43:37.235003Z",
     "shell.execute_reply": "2023-06-24T13:43:37.233861Z"
    },
    "papermill": {
     "duration": 0.019532,
     "end_time": "2023-06-24T13:43:37.237217",
     "exception": false,
     "start_time": "2023-06-24T13:43:37.217685",
     "status": "completed"
    },
    "tags": []
   },
   "outputs": [],
   "source": [
    "# Dropping irrelevant columns\n",
    "\n",
    "df = df.drop(['Date', 'City', 'Venue', 'Team', 'Contestant 1',\n",
    "         'Contestant 2', 'Contestant 3', 'Gold', 'Silver', \n",
    "         'Bronze', 'Honorable', 'Penalty', 'Prize'], axis=1)"
   ]
  },
  {
   "cell_type": "code",
   "execution_count": 9,
   "id": "c25e23b7",
   "metadata": {
    "execution": {
     "iopub.execute_input": "2023-06-24T13:43:37.253242Z",
     "iopub.status.busy": "2023-06-24T13:43:37.252593Z",
     "iopub.status.idle": "2023-06-24T13:43:37.261760Z",
     "shell.execute_reply": "2023-06-24T13:43:37.260861Z"
    },
    "papermill": {
     "duration": 0.019804,
     "end_time": "2023-06-24T13:43:37.264055",
     "exception": false,
     "start_time": "2023-06-24T13:43:37.244251",
     "status": "completed"
    },
    "tags": []
   },
   "outputs": [],
   "source": [
    "# Dropping entries with null value(s)\n",
    "\n",
    "df = df.dropna()"
   ]
  },
  {
   "cell_type": "code",
   "execution_count": 10,
   "id": "b4126eb0",
   "metadata": {
    "execution": {
     "iopub.execute_input": "2023-06-24T13:43:37.280360Z",
     "iopub.status.busy": "2023-06-24T13:43:37.279594Z",
     "iopub.status.idle": "2023-06-24T13:43:37.289766Z",
     "shell.execute_reply": "2023-06-24T13:43:37.288851Z"
    },
    "papermill": {
     "duration": 0.020704,
     "end_time": "2023-06-24T13:43:37.291993",
     "exception": false,
     "start_time": "2023-06-24T13:43:37.271289",
     "status": "completed"
    },
    "tags": []
   },
   "outputs": [],
   "source": [
    "# Fix data type\n",
    "\n",
    "df = df.astype({'Rank' : 'int', 'Score' : 'int'})"
   ]
  },
  {
   "cell_type": "code",
   "execution_count": 11,
   "id": "fc5de6bd",
   "metadata": {
    "execution": {
     "iopub.execute_input": "2023-06-24T13:43:37.307594Z",
     "iopub.status.busy": "2023-06-24T13:43:37.307236Z",
     "iopub.status.idle": "2023-06-24T13:43:37.313633Z",
     "shell.execute_reply": "2023-06-24T13:43:37.312575Z"
    },
    "papermill": {
     "duration": 0.016887,
     "end_time": "2023-06-24T13:43:37.315903",
     "exception": false,
     "start_time": "2023-06-24T13:43:37.299016",
     "status": "completed"
    },
    "tags": []
   },
   "outputs": [],
   "source": [
    "# Format columns name\n",
    "\n",
    "df = df.rename(columns={'Year' : 'year','Host' : 'host','Rank' : 'rank',\n",
    "                        'University' : 'university','Country' : 'country',\n",
    "                        'Score' : 'total_solved','Total' : 'total_problems',\n",
    "                       'Score Percentage' : 'solved_percentage'})"
   ]
  },
  {
   "cell_type": "code",
   "execution_count": 12,
   "id": "caaf5c34",
   "metadata": {
    "execution": {
     "iopub.execute_input": "2023-06-24T13:43:37.331718Z",
     "iopub.status.busy": "2023-06-24T13:43:37.331310Z",
     "iopub.status.idle": "2023-06-24T13:43:37.348224Z",
     "shell.execute_reply": "2023-06-24T13:43:37.347428Z"
    },
    "papermill": {
     "duration": 0.027439,
     "end_time": "2023-06-24T13:43:37.350245",
     "exception": false,
     "start_time": "2023-06-24T13:43:37.322806",
     "status": "completed"
    },
    "tags": []
   },
   "outputs": [
    {
     "data": {
      "text/html": [
       "<div>\n",
       "<style scoped>\n",
       "    .dataframe tbody tr th:only-of-type {\n",
       "        vertical-align: middle;\n",
       "    }\n",
       "\n",
       "    .dataframe tbody tr th {\n",
       "        vertical-align: top;\n",
       "    }\n",
       "\n",
       "    .dataframe thead th {\n",
       "        text-align: right;\n",
       "    }\n",
       "</style>\n",
       "<table border=\"1\" class=\"dataframe\">\n",
       "  <thead>\n",
       "    <tr style=\"text-align: right;\">\n",
       "      <th></th>\n",
       "      <th>year</th>\n",
       "      <th>host</th>\n",
       "      <th>rank</th>\n",
       "      <th>university</th>\n",
       "      <th>country</th>\n",
       "      <th>total_solved</th>\n",
       "      <th>total_problems</th>\n",
       "      <th>solved_percentage</th>\n",
       "    </tr>\n",
       "  </thead>\n",
       "  <tbody>\n",
       "  </tbody>\n",
       "</table>\n",
       "</div>"
      ],
      "text/plain": [
       "Empty DataFrame\n",
       "Columns: [year, host, rank, university, country, total_solved, total_problems, solved_percentage]\n",
       "Index: []"
      ]
     },
     "execution_count": 12,
     "metadata": {},
     "output_type": "execute_result"
    }
   ],
   "source": [
    "# Check for duplicated data\n",
    "\n",
    "df.loc[df.duplicated()]"
   ]
  },
  {
   "cell_type": "markdown",
   "id": "227bc57c",
   "metadata": {
    "papermill": {
     "duration": 0.006892,
     "end_time": "2023-06-24T13:43:37.364429",
     "exception": false,
     "start_time": "2023-06-24T13:43:37.357537",
     "status": "completed"
    },
    "tags": []
   },
   "source": [
    "# **3 Feature Relationships**"
   ]
  },
  {
   "cell_type": "code",
   "execution_count": 13,
   "id": "94816347",
   "metadata": {
    "execution": {
     "iopub.execute_input": "2023-06-24T13:43:37.380429Z",
     "iopub.status.busy": "2023-06-24T13:43:37.379933Z",
     "iopub.status.idle": "2023-06-24T13:43:38.032652Z",
     "shell.execute_reply": "2023-06-24T13:43:38.031850Z"
    },
    "papermill": {
     "duration": 0.66369,
     "end_time": "2023-06-24T13:43:38.035217",
     "exception": false,
     "start_time": "2023-06-24T13:43:37.371527",
     "status": "completed"
    },
    "tags": []
   },
   "outputs": [
    {
     "data": {
      "image/png": "[encoded data removed]",
      "text/plain": [
       "<Figure size 640x480 with 1 Axes>"
      ]
     },
     "metadata": {},
     "output_type": "display_data"
    }
   ],
   "source": [
    "rev_df = df.sort_values(by=['rank'], ascending=False)\n",
    "\n",
    "ax = sns.scatterplot(x='solved_percentage',\n",
    "                y='rank',\n",
    "                hue='year',\n",
    "                data=rev_df,\n",
    "                s=5)\n",
    "ax.set_title('Problem Solved Percentage vs. Rank')\n",
    "plt.show()"
   ]
  }
 ],
 "metadata": {
  "kernelspec": {
   "display_name": "Python 3",
   "language": "python",
   "name": "python3"
  },
  "language_info": {
   "codemirror_mode": {
    "name": "ipython",
    "version": 3
   },
   "file_extension": ".py",
   "mimetype": "text/x-python",
   "name": "python",
   "nbconvert_exporter": "python",
   "pygments_lexer": "ipython3",
   "version": "3.10.10"
  },
  "papermill": {
   "default_parameters": {},
   "duration": 15.689682,
   "end_time": "2023-06-24T13:43:38.965375",
   "environment_variables": {},
   "exception": null,
   "input_path": "__notebook__.ipynb",
   "output_path": "__notebook__.ipynb",
   "parameters": {},
   "start_time": "2023-06-24T13:43:23.275693",
   "version": "2.4.0"
  }
 },
 "nbformat": 4,
 "nbformat_minor": 5
}
